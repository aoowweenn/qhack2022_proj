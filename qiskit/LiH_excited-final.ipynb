{
 "cells": [
  {
   "cell_type": "code",
   "execution_count": 37,
   "id": "75ff00c3-0431-4bb9-820f-4218998197f2",
   "metadata": {},
   "outputs": [],
   "source": [
    "import numpy as np\n",
    "\n",
    "# Importing standard Qiskit libraries\n",
    "from qiskit import QuantumCircuit, transpile, Aer, IBMQ\n",
    "from qiskit.tools.jupyter import *\n",
    "from qiskit.visualization import *\n",
    "from ibm_quantum_widgets import *\n",
    "from qiskit.providers.aer import QasmSimulator\n",
    "\n",
    "# Loading your IBM Quantum account(s)\n",
    "provider = IBMQ.load_account()"
   ]
  },
  {
   "cell_type": "code",
   "execution_count": 38,
   "id": "700dff12-0e30-46e4-a997-9aead9e4ce95",
   "metadata": {},
   "outputs": [],
   "source": [
    "from qiskit_nature.drivers import UnitsType, Molecule\n",
    "from qiskit_nature.drivers.second_quantization import (\n",
    "    ElectronicStructureDriverType,\n",
    "    ElectronicStructureMoleculeDriver,\n",
    ")\n",
    "from qiskit_nature.problems.second_quantization import ElectronicStructureProblem\n",
    "from qiskit_nature.converters.second_quantization import QubitConverter\n",
    "from qiskit_nature.mappers.second_quantization import ParityMapper\n",
    "from qiskit_nature.transformers.second_quantization.electronic.freeze_core_transformer import FreezeCoreTransformer"
   ]
  },
  {
   "cell_type": "code",
   "execution_count": 39,
   "id": "4ca3d583-1875-446d-8a9b-7456c57aa22c",
   "metadata": {},
   "outputs": [],
   "source": [
    "from qiskit import Aer\n",
    "from qiskit.utils import QuantumInstance\n",
    "from qiskit_nature.algorithms import GroundStateEigensolver, QEOM, VQEUCCFactory"
   ]
  },
  {
   "cell_type": "code",
   "execution_count": 40,
   "id": "77580ea8-98a4-49d5-b2fb-574f73acbedc",
   "metadata": {},
   "outputs": [],
   "source": [
    "# This first part sets the ground state solver\n",
    "quantum_instance = QuantumInstance(Aer.get_backend(\"aer_simulator_statevector\"))"
   ]
  },
  {
   "cell_type": "code",
   "execution_count": 58,
   "id": "548d530d-81f8-4dcb-9416-e34900b954d7",
   "metadata": {},
   "outputs": [
    {
     "name": "stdout",
     "output_type": "stream",
     "text": [
      "1.595469290872545\n"
     ]
    }
   ],
   "source": [
    "# Distance between the Li and H atom:\n",
    "# Cartesians from:\n",
    "# https://cccbdb.nist.gov/exp2x.asp?casno=7580678&charge=0\n",
    "d = 1.5949\n",
    "# https://aip.scitation.org/doi/10.1063/1.1677704\n",
    "a0 = 0.529177210903\n",
    "a = 3.015 * a0\n",
    "print(a)\n",
    "#d = a # 1.595469 ( not so much difference )"
   ]
  },
  {
   "cell_type": "markdown",
   "id": "38c9fa9e-e819-4dd7-9005-e83121bfb9b0",
   "metadata": {},
   "source": [
    "Originally, we have these orbitals, H: 1s2, Li: 1s2, 2s2, 2px2, 2py2, 2pz2, total (spin) oribtals: 6 (12)\n",
    "\n",
    "To reduce number of qubits, we align the H and Li atom to X axis so that there is no contribution of py (orbital 3) and pz (orbital 4).\n",
    "\n",
    "Also, we freeze the core electrons so that 2 electrons from Li are occupied in the 1s2 (orbital 0).\n",
    "\n",
    "Ref: https://arxiv.org/abs/1704.05018"
   ]
  },
  {
   "cell_type": "code",
   "execution_count": 59,
   "id": "fdb21620-b14c-48de-ac56-65e28bf3fc0c",
   "metadata": {},
   "outputs": [],
   "source": [
    "molecule = Molecule(\n",
    "    geometry=[[\"Li\", [0.0, 0.0, 0.0]], [\"H\", [d, 0.0, 0.0]]], charge=0, multiplicity=1\n",
    ")\n",
    "driver = ElectronicStructureMoleculeDriver(\n",
    "    molecule, basis=\"sto3g\", driver_type=ElectronicStructureDriverType.PYSCF\n",
    ")\n",
    "\n",
    "# FreezeCoreTransformer will freeze core electrons by defaults\n",
    "es_problem = ElectronicStructureProblem(driver, [FreezeCoreTransformer(remove_orbitals=[3, 4])])\n",
    "qubit_converter = QubitConverter(ParityMapper(), True, [1, 1])"
   ]
  },
  {
   "cell_type": "code",
   "execution_count": 60,
   "id": "73e72e4a-32f2-42d5-b5a1-67c571e07176",
   "metadata": {},
   "outputs": [
    {
     "name": "stdout",
     "output_type": "stream",
     "text": [
      "Fermionic Operator\n",
      "register length=6, number terms=117\n",
      "  (0.01301297176964477+0j) * ( +_0 -_1 +_3 -_4 )\n",
      "+ (-0.03453981098528195+0j) * ( +_0 -_1 +_3 -_5 )\n",
      "+ (-0.013012971769644775+0j) * ( +_0 -_1 -_3 +_4 )\n",
      "+ (0.034539810985281916+0j) * ( +_0 -_1 -_3 +_ ...\n"
     ]
    }
   ],
   "source": [
    "second_q_op = es_problem.second_q_ops()\n",
    "print(second_q_op[0])"
   ]
  },
  {
   "cell_type": "code",
   "execution_count": 61,
   "id": "9658472b-e591-4f76-9a09-a5d9a8760c48",
   "metadata": {},
   "outputs": [
    {
     "name": "stdout",
     "output_type": "stream",
     "text": [
      "-0.2071971919112127 * IIII\n",
      "+ (-0.2534393552522031+1.3877787807814457e-17j) * ZIII\n",
      "+ 0.013846702482966912 * IZII\n",
      "- 0.046571665340751855 * ZZII\n",
      "+ (-0.253439355252203-1.3877787807814457e-17j) * IIZI\n",
      "+ 0.1134904741696194 * ZIZI\n",
      "+ 0.11351147171736535 * IZZI\n",
      "+ (0.060367117387170634+3.469446951953614e-18j) * ZZZI\n",
      "+ (0.01384670248296688+3.469446951953614e-18j) * IIIZ\n",
      "+ 0.11351147171736535 * ZIIZ\n",
      "+ (0.1219161918168757+6.938893903907228e-18j) * IZIZ\n",
      "+ 0.055938986157482405 * ZZIZ\n",
      "- 0.04657166534075183 * IIZZ\n",
      "+ 0.060367117387170634 * ZIZZ\n",
      "+ (0.055938986157482405-3.469446951953614e-18j) * IZZZ\n",
      "+ 0.0844840116206575 * ZZZZ\n",
      "+ 0.010817614312880586 * XIII\n",
      "- 0.010817614312880587 * XZII\n",
      "+ 0.01101293743072889 * XIZI\n",
      "- 0.01101293743072889 * XZZI\n",
      "+ 0.012835066166227057 * XIIZ\n",
      "- 0.012835066166227057 * XZIZ\n",
      "- 0.008995487748531 * XIZZ\n",
      "+ 0.008995487748531 * XZZZ\n",
      "- 0.002564096134708268 * IXII\n",
      "+ (0.0025640961347082676-1.0842021724855044e-19j) * ZXII\n",
      "+ (0.010823229230178793-8.673617379884035e-19j) * IXZI\n",
      "- 0.010823229230178793 * ZXZI\n",
      "+ 0.012123314803708684 * IXIZ\n",
      "+ (-0.012123314803708684+8.673617379884035e-19j) * ZXIZ\n",
      "- 0.0018542200640634437 * IXZZ\n",
      "+ (0.0018542200640634435-1.0842021724855044e-19j) * ZXZZ\n",
      "+ 0.012019919195337913 * XXII\n",
      "+ 0.012019919195337915 * YYII\n",
      "+ 0.03363379754059216 * XXZI\n",
      "+ 0.03363379754059216 * YYZI\n",
      "+ 0.031764360663254054 * XXIZ\n",
      "+ 0.031764360663254054 * YYIZ\n",
      "- 0.0030703801534737478 * XXZZ\n",
      "- 0.0030703801534737473 * YYZZ\n",
      "+ (0.010817614312880579-8.673617379884035e-19j) * IIXI\n",
      "+ 0.01101293743072889 * ZIXI\n",
      "+ (0.012835066166227057-8.673617379884035e-19j) * IZXI\n",
      "- 0.008995487748531 * ZZXI\n",
      "- 0.010817614312880579 * IIXZ\n",
      "- 0.01101293743072889 * ZIXZ\n",
      "- 0.012835066166227057 * IZXZ\n",
      "+ (0.008995487748531+8.673617379884035e-19j) * ZZXZ\n",
      "+ 0.006609116747523033 * XIXI\n",
      "- 0.006609116747523033 * XZXI\n",
      "+ (-0.006609116747523033+4.336808689942018e-19j) * XIXZ\n",
      "+ 0.006609116747523033 * XZXZ\n",
      "+ 0.0023391079879505868 * IXXI\n",
      "- 0.0023391079879505868 * ZXXI\n",
      "- 0.0023391079879505868 * IXXZ\n",
      "+ 0.0023391079879505868 * ZXXZ\n",
      "+ 0.007964025788665065 * XXXI\n",
      "+ 0.007964025788665065 * YYXI\n",
      "- 0.007964025788665065 * XXXZ\n",
      "+ (-0.007964025788665065-8.673617379884035e-19j) * YYXZ\n",
      "+ (-0.0025640961347082694-1.0842021724855044e-19j) * IIIX\n",
      "+ 0.010823229230178793 * ZIIX\n",
      "+ (0.012123314803708684-8.673617379884035e-19j) * IZIX\n",
      "- 0.0018542200640634437 * ZZIX\n",
      "+ (0.0025640961347082694+1.0842021724855044e-19j) * IIZX\n",
      "- 0.010823229230178793 * ZIZX\n",
      "+ (-0.012123314803708684+8.673617379884035e-19j) * IZZX\n",
      "+ 0.0018542200640634437 * ZZZX\n",
      "+ 0.0023391079879505868 * XIIX\n",
      "- 0.0023391079879505868 * XZIX\n",
      "- 0.0023391079879505868 * XIZX\n",
      "+ 0.0023391079879505868 * XZZX\n",
      "+ 0.0032532429424111916 * IXIX\n",
      "+ (-0.0032532429424111916-2.168404344971009e-19j) * ZXIX\n",
      "- 0.0032532429424111916 * IXZX\n",
      "+ (0.0032532429424111916+2.168404344971009e-19j) * ZXZX\n",
      "+ 0.008634952746320475 * XXIX\n",
      "+ 0.008634952746320475 * YYIX\n",
      "- 0.008634952746320475 * XXZX\n",
      "- 0.008634952746320475 * YYZX\n",
      "+ 0.012019919195337911 * IIXX\n",
      "+ 0.03363379754059216 * ZIXX\n",
      "+ 0.031764360663254054 * IZXX\n",
      "+ (-0.0030703801534737473-2.168404344971009e-19j) * ZZXX\n",
      "+ (0.012019919195337913+4.336808689942018e-19j) * IIYY\n",
      "+ 0.03363379754059216 * ZIYY\n",
      "+ 0.031764360663254054 * IZYY\n",
      "- 0.0030703801534737473 * ZZYY\n",
      "+ 0.00796402578866506 * XIXX\n",
      "- 0.00796402578866506 * XZXX\n",
      "+ 0.00796402578866506 * XIYY\n",
      "- 0.00796402578866506 * XZYY\n",
      "+ 0.008634952746320475 * IXXX\n",
      "- 0.008634952746320475 * ZXXX\n",
      "+ 0.008634952746320475 * IXYY\n",
      "- 0.008634952746320475 * ZXYY\n",
      "+ 0.030967812260386467 * XXXX\n",
      "+ (0.030967812260386467-1.734723475976807e-18j) * YYXX\n",
      "+ 0.030967812260386467 * XXYY\n",
      "+ 0.030967812260386467 * YYYY\n"
     ]
    }
   ],
   "source": [
    "qubit_op = qubit_converter.convert(second_q_op[0])\n",
    "print(qubit_op)"
   ]
  },
  {
   "cell_type": "code",
   "execution_count": 62,
   "id": "7949528f-8281-4fe9-a51c-fceffebe334e",
   "metadata": {},
   "outputs": [
    {
     "data": {
      "image/png": "[encoded data removed]",
      "text/plain": [
       "<Figure size 146.797x264.88 with 1 Axes>"
      ]
     },
     "execution_count": 62,
     "metadata": {},
     "output_type": "execute_result"
    }
   ],
   "source": [
    "from qiskit_nature.circuit.library import HartreeFock\n",
    "\n",
    "init_state = HartreeFock(es_problem.num_spin_orbitals, es_problem.num_particles, qubit_converter)\n",
    "\n",
    "init_state.draw()"
   ]
  },
  {
   "cell_type": "code",
   "execution_count": 69,
   "id": "a9afb287-52f0-48f9-9e15-d33669a546d3",
   "metadata": {},
   "outputs": [
    {
     "data": {
      "image/png": "[encoded data removed]",
      "text/plain": [
       "<Figure size 327.397x264.88 with 1 Axes>"
      ]
     },
     "execution_count": 69,
     "metadata": {},
     "output_type": "execute_result"
    }
   ],
   "source": [
    "from qiskit_nature.circuit.library import UCCSD\n",
    "\n",
    "ansatz = UCCSD(qubit_converter, es_problem.num_particles, es_problem.num_spin_orbitals, 1, init_state)\n",
    "ansatz.draw('mpl', style='iqx')"
   ]
  },
  {
   "cell_type": "markdown",
   "id": "396fbb6b-8464-41a2-adab-d186f64ebf88",
   "metadata": {},
   "source": [
    "# Ground State Energy"
   ]
  },
  {
   "cell_type": "markdown",
   "id": "7dea1ee9-ced3-4895-b272-9efd568aaa25",
   "metadata": {},
   "source": [
    "## numpy solution"
   ]
  },
  {
   "cell_type": "code",
   "execution_count": 72,
   "id": "205b2a9a-f807-4d81-960b-c37da3a48e76",
   "metadata": {},
   "outputs": [
    {
     "name": "stdout",
     "output_type": "stream",
     "text": [
      "Exact electronic energy: -7.881146+0.000000j Hartree\n",
      "\n",
      "=== GROUND STATE ENERGY ===\n",
      " \n",
      "* Electronic ground state energy (Hartree): -8.876526512881\n",
      "  - computed part:      -1.078193758682\n",
      "  - FreezeCoreTransformer extracted energy part: -7.7983327542\n",
      "~ Nuclear repulsion energy (Hartree): 0.995380044366\n",
      "> Total ground state energy (Hartree): -7.881146468515\n",
      " \n",
      "=== MEASURED OBSERVABLES ===\n",
      " \n",
      "  0:  # Particles: 2.000 S: 0.000 S^2: 0.000 M: 0.000\n",
      " \n",
      "=== DIPOLE MOMENTS ===\n",
      " \n",
      "~ Nuclear dipole moment (a.u.): [3.0139242  0.0  0.0]\n",
      " \n",
      "  0: \n",
      "  * Electronic dipole moment (a.u.): [4.850322  0.0  0.0]\n",
      "    - computed part:      [4.85436625  0.0  0.0]\n",
      "    - FreezeCoreTransformer extracted energy part: [-0.00404424  0.0  0.0]\n",
      "  > Dipole moment (a.u.): [-1.8363978  0.0  0.0]  Total: 1.8363978\n",
      "                 (debye): [-4.66765719  0.0  0.0]  Total: 4.66765719\n",
      " \n"
     ]
    }
   ],
   "source": [
    "from qiskit.algorithms import NumPyMinimumEigensolver\n",
    "from qiskit_nature.algorithms import GroundStateEigensolver\n",
    "\n",
    "numpy_solver = NumPyMinimumEigensolver()\n",
    "numpy_ground_state_solver = GroundStateEigensolver(qubit_converter, numpy_solver)\n",
    "numpy_results = numpy_ground_state_solver.solve(es_problem)\n",
    "\n",
    "exact_energy = numpy_results.total_energies[0]\n",
    "print(f\"Exact electronic energy: {exact_energy:.6f} Hartree\\n\")\n",
    "print(numpy_results)"
   ]
  },
  {
   "cell_type": "markdown",
   "id": "b5739d7c-a1cf-47c1-805f-9ff9af69ad13",
   "metadata": {},
   "source": [
    "## VQE solution"
   ]
  },
  {
   "cell_type": "code",
   "execution_count": 82,
   "id": "4e172b66-cb47-4ef9-b9a1-452e06abf95a",
   "metadata": {},
   "outputs": [],
   "source": [
    "from qiskit.algorithms.optimizers import SPSA, QNSPSA, COBYLA\n",
    "\n",
    "optimizer = COBYLA(tol=0.001)\n",
    "#optimizer = SPSA(maxiter=300)\n",
    "#optimizer = QNSPSA(QNSPSA.get_fidelity(ansatz), maxiter=300)"
   ]
  },
  {
   "cell_type": "code",
   "execution_count": 83,
   "id": "d7a6cba3-cea4-481d-9b3c-8ade451875c4",
   "metadata": {},
   "outputs": [],
   "source": [
    "import numpy as np\n",
    "\n",
    "np.random.seed(5)  # fix seed for reproducibility\n",
    "initial_point = np.random.random(ansatz.num_parameters)"
   ]
  },
  {
   "cell_type": "code",
   "execution_count": 84,
   "id": "ab236fda-a801-4fc9-ba55-4c1842c63af6",
   "metadata": {},
   "outputs": [
    {
     "name": "stdout",
     "output_type": "stream",
     "text": [
      "Qcircuit electronic energy: -7.881101+0.000000j Hartree\n",
      "\n",
      "=== GROUND STATE ENERGY ===\n",
      " \n",
      "* Electronic ground state energy (Hartree): -8.876480785689\n",
      "  - computed part:      -1.07814803149\n",
      "  - FreezeCoreTransformer extracted energy part: -7.7983327542\n",
      "~ Nuclear repulsion energy (Hartree): 0.995380044366\n",
      "> Total ground state energy (Hartree): -7.881100741323\n",
      " \n",
      "=== MEASURED OBSERVABLES ===\n",
      " \n",
      "  0:  # Particles: 2.000 S: 0.000 S^2: 0.000 M: 0.000\n",
      " \n",
      "=== DIPOLE MOMENTS ===\n",
      " \n",
      "~ Nuclear dipole moment (a.u.): [3.0139242  0.0  0.0]\n",
      " \n",
      "  0: \n",
      "  * Electronic dipole moment (a.u.): [4.86749056  0.0  0.0]\n",
      "    - computed part:      [4.8715348  0.0  0.0]\n",
      "    - FreezeCoreTransformer extracted energy part: [-0.00404424  0.0  0.0]\n",
      "  > Dipole moment (a.u.): [-1.85356636  0.0  0.0]  Total: 1.85356636\n",
      "                 (debye): [-4.7112953  0.0  0.0]  Total: 4.7112953\n",
      " \n"
     ]
    }
   ],
   "source": [
    "solver = VQEUCCFactory(quantum_instance, optimizer, initial_point, ansatz=ansatz)\n",
    "\n",
    "gsc = GroundStateEigensolver(qubit_converter, solver)\n",
    "gnd_results = gsc.solve(es_problem)\n",
    "print(f\"Qcircuit electronic energy: {gnd_results.total_energies[0]:.6f} Hartree\\n\")\n",
    "print(gnd_results)"
   ]
  },
  {
   "cell_type": "markdown",
   "id": "5f11ed67-8050-4c88-a7fe-0858d84d2126",
   "metadata": {},
   "source": [
    "# Excited State Engergies"
   ]
  },
  {
   "cell_type": "code",
   "execution_count": 85,
   "id": "85d3287b-75e9-4a62-a914-06e82e971aa4",
   "metadata": {},
   "outputs": [],
   "source": [
    "from qiskit_nature.algorithms import ExcitedStatesEigensolver"
   ]
  },
  {
   "cell_type": "markdown",
   "id": "51d540a9-4ad3-4bce-a5f9-b232c83d9455",
   "metadata": {},
   "source": [
    "## numpy solution"
   ]
  },
  {
   "cell_type": "code",
   "execution_count": 86,
   "id": "551a8012-a58a-47be-828d-92351f44e9e0",
   "metadata": {},
   "outputs": [
    {
     "name": "stdout",
     "output_type": "stream",
     "text": [
      "=== GROUND STATE ENERGY ===\n",
      " \n",
      "* Electronic ground state energy (Hartree): -8.876526512881\n",
      "  - computed part:      -1.078193758682\n",
      "  - FreezeCoreTransformer extracted energy part: -7.7983327542\n",
      "~ Nuclear repulsion energy (Hartree): 0.995380044366\n",
      "> Total ground state energy (Hartree): -7.881146468515\n",
      " \n",
      "=== EXCITED STATE ENERGIES ===\n",
      " \n",
      "  1: \n",
      "* Electronic excited state energy (Hartree): -8.761130323789\n",
      "> Total excited state energy (Hartree): -7.765750279423\n",
      "  2: \n",
      "* Electronic excited state energy (Hartree): -8.743443660995\n",
      "> Total excited state energy (Hartree): -7.748063616628\n",
      "  3: \n",
      "* Electronic excited state energy (Hartree): -8.477633457354\n",
      "> Total excited state energy (Hartree): -7.482253412987\n",
      "  4: \n",
      "* Electronic excited state energy (Hartree): -8.260608156096\n",
      "> Total excited state energy (Hartree): -7.265228111729\n",
      "  5: \n",
      "* Electronic excited state energy (Hartree): -8.216286694068\n",
      "> Total excited state energy (Hartree): -7.220906649702\n",
      "  6: \n",
      "* Electronic excited state energy (Hartree): -8.129680521541\n",
      "> Total excited state energy (Hartree): -7.134300477174\n",
      "  7: \n",
      "* Electronic excited state energy (Hartree): -8.000730763093\n",
      "> Total excited state energy (Hartree): -7.005350718726\n",
      "  8: \n",
      "* Electronic excited state energy (Hartree): -7.789038345451\n",
      "> Total excited state energy (Hartree): -6.793658301085\n",
      " \n",
      "=== MEASURED OBSERVABLES ===\n",
      " \n",
      "  0:  # Particles: 2.000 S: 0.000 S^2: 0.000 M: 0.000\n",
      "  1:  # Particles: 2.000 S: 1.000 S^2: 2.000 M: 0.000\n",
      "  2:  # Particles: 2.000 S: 0.000 S^2: 0.000 M: 0.000\n",
      "  3:  # Particles: 2.000 S: 1.000 S^2: 2.000 M: 0.000\n",
      "  4:  # Particles: 2.000 S: 0.000 S^2: 0.000 M: 0.000\n",
      "  5:  # Particles: 2.000 S: 0.000 S^2: 0.000 M: 0.000\n",
      "  6:  # Particles: 2.000 S: 1.000 S^2: 2.000 M: 0.000\n",
      "  7:  # Particles: 2.000 S: 0.000 S^2: 0.000 M: 0.000\n",
      "  8:  # Particles: 2.000 S: 0.000 S^2: 0.000 M: 0.000\n",
      " \n",
      "=== DIPOLE MOMENTS ===\n",
      " \n",
      "~ Nuclear dipole moment (a.u.): [3.0139242  0.0  0.0]\n",
      " \n",
      "  0: \n",
      "  * Electronic dipole moment (a.u.): [4.850322  0.0  0.0]\n",
      "    - computed part:      [4.85436625  0.0  0.0]\n",
      "    - FreezeCoreTransformer extracted energy part: [-0.00404424  0.0  0.0]\n",
      "  > Dipole moment (a.u.): [-1.8363978  0.0  0.0]  Total: 1.8363978\n",
      "                 (debye): [-4.66765719  0.0  0.0]  Total: 4.66765719\n",
      " \n",
      "  1: \n",
      "  * Electronic dipole moment (a.u.): [1.42356843  0.0  0.0]\n",
      "    - computed part:      [1.42761267  0.0  0.0]\n",
      "    - FreezeCoreTransformer extracted energy part: [-0.00404424  0.0  0.0]\n",
      "  > Dipole moment (a.u.): [1.59035577  0.0  0.0]  Total: 1.59035577\n",
      "                 (debye): [4.04228078  0.0  0.0]  Total: 4.04228078\n",
      " \n",
      "  2: \n",
      "  * Electronic dipole moment (a.u.): [1.28481404  0.0  0.0]\n",
      "    - computed part:      [1.28885829  0.0  0.0]\n",
      "    - FreezeCoreTransformer extracted energy part: [-0.00404424  0.0  0.0]\n",
      "  > Dipole moment (a.u.): [1.72911016  0.0  0.0]  Total: 1.72911016\n",
      "                 (debye): [4.39495922  0.0  0.0]  Total: 4.39495922\n",
      " \n",
      "  3: \n",
      "  * Electronic dipole moment (a.u.): [4.08930136  0.0  0.0]\n",
      "    - computed part:      [4.0933456  0.0  0.0]\n",
      "    - FreezeCoreTransformer extracted energy part: [-0.00404424  0.0  0.0]\n",
      "  > Dipole moment (a.u.): [-1.07537716  0.0  0.0]  Total: 1.07537716\n",
      "                 (debye): [-2.73333585  0.0  0.0]  Total: 2.73333585\n",
      " \n",
      "  4: \n",
      "  * Electronic dipole moment (a.u.): [0.45368361  0.0  0.0]\n",
      "    - computed part:      [0.45772785  0.0  0.0]\n",
      "    - FreezeCoreTransformer extracted energy part: [-0.00404424  0.0  0.0]\n",
      "  > Dipole moment (a.u.): [2.56024059  0.0  0.0]  Total: 2.56024059\n",
      "                 (debye): [6.50748187  0.0  0.0]  Total: 6.50748187\n",
      " \n",
      "  5: \n",
      "  * Electronic dipole moment (a.u.): [2.66172141  0.0  0.0]\n",
      "    - computed part:      [2.66576566  0.0  0.0]\n",
      "    - FreezeCoreTransformer extracted energy part: [-0.00404424  0.0  0.0]\n",
      "  > Dipole moment (a.u.): [0.35220279  0.0  0.0]  Total: 0.35220279\n",
      "                 (debye): [0.8952101  0.0  0.0]  Total: 0.8952101\n",
      " \n",
      "  6: \n",
      "  * Electronic dipole moment (a.u.): [-0.22496582  0.0  0.0]\n",
      "    - computed part:      [-0.22092158  0.0  0.0]\n",
      "    - FreezeCoreTransformer extracted energy part: [-0.00404424  0.0  0.0]\n",
      "  > Dipole moment (a.u.): [3.23889002  0.0  0.0]  Total: 3.23889002\n",
      "                 (debye): [8.23243651  0.0  0.0]  Total: 8.23243651\n",
      " \n",
      "  7: \n",
      "  * Electronic dipole moment (a.u.): [-1.68435476  0.0  0.0]\n",
      "    - computed part:      [-1.68031052  0.0  0.0]\n",
      "    - FreezeCoreTransformer extracted energy part: [-0.00404424  0.0  0.0]\n",
      "  > Dipole moment (a.u.): [4.69827896  0.0  0.0]  Total: 4.69827896\n",
      "                 (debye): [11.94183285  0.0  0.0]  Total: 11.94183285\n",
      " \n",
      "  8: \n",
      "  * Electronic dipole moment (a.u.): [3.00962163  0.0  0.0]\n",
      "    - computed part:      [3.01366587  0.0  0.0]\n",
      "    - FreezeCoreTransformer extracted energy part: [-0.00404424  0.0  0.0]\n",
      "  > Dipole moment (a.u.): [0.00430257  0.0  0.0]  Total: 0.00430257\n",
      "                 (debye): [0.01093605  0.0  0.0]  Total: 0.01093605\n",
      " \n"
     ]
    }
   ],
   "source": [
    "from qiskit_nature.algorithms import NumPyEigensolverFactory\n",
    "\n",
    "def filter_criterion(eigenstate, eigenvalue, aux_values):\n",
    "    #return np.isclose(aux_values[0][0], 4.0) # for LiH\n",
    "    return np.isclose(aux_values[0][0], 2.0) # But we have 2 free electrons (particles) right now.\n",
    "\n",
    "#numpy_solver = NumPyEigensolverFactory(use_default_filter_criterion=True)\n",
    "numpy_solver = NumPyEigensolverFactory(filter_criterion=filter_criterion)\n",
    "numpy_excited_states_calculation = ExcitedStatesEigensolver(qubit_converter, numpy_solver)\n",
    "numpy_results = numpy_excited_states_calculation.solve(es_problem)\n",
    "print(numpy_results)"
   ]
  },
  {
   "cell_type": "markdown",
   "id": "40e3416d-0906-4468-9175-96cf9bc41b1f",
   "metadata": {},
   "source": [
    "## QEOM solution with numpy ground state solver"
   ]
  },
  {
   "cell_type": "code",
   "execution_count": 87,
   "id": "4052efb7-02bd-435f-a181-dc46c4cec2d1",
   "metadata": {},
   "outputs": [
    {
     "name": "stdout",
     "output_type": "stream",
     "text": [
      "=== GROUND STATE ENERGY ===\n",
      " \n",
      "* Electronic ground state energy (Hartree): -8.876526512881\n",
      "  - computed part:      -1.078193758682\n",
      "  - FreezeCoreTransformer extracted energy part: -7.7983327542\n",
      "~ Nuclear repulsion energy (Hartree): 0.995380044366\n",
      "> Total ground state energy (Hartree): -7.881146468515\n",
      " \n",
      "=== EXCITED STATE ENERGIES ===\n",
      " \n",
      "  1: \n",
      "* Electronic excited state energy (Hartree): -8.699854919748\n",
      "> Total excited state energy (Hartree): -7.704474875382\n",
      "  2: \n",
      "* Electronic excited state energy (Hartree): -8.602023956611\n",
      "> Total excited state energy (Hartree): -7.606643912245\n",
      "  3: \n",
      "* Electronic excited state energy (Hartree): -8.432654565619\n",
      "> Total excited state energy (Hartree): -7.437274521253\n",
      "  4: \n",
      "* Electronic excited state energy (Hartree): -8.357892464574\n",
      "> Total excited state energy (Hartree): -7.362512420207\n",
      "  5: \n",
      "* Electronic excited state energy (Hartree): -8.233184486727\n",
      "> Total excited state energy (Hartree): -7.23780444236\n",
      "  6: \n",
      "* Electronic excited state energy (Hartree): -8.231638331319\n",
      "> Total excited state energy (Hartree): -7.236258286953\n",
      "  7: \n",
      "* Electronic excited state energy (Hartree): -8.006503919156\n",
      "> Total excited state energy (Hartree): -7.011123874789\n",
      "  8: \n",
      "* Electronic excited state energy (Hartree): -7.796762140848\n",
      "> Total excited state energy (Hartree): -6.801382096482\n",
      " \n",
      "=== MEASURED OBSERVABLES ===\n",
      " \n",
      "  0:  # Particles: 2.000 S: 0.000 S^2: 0.000 M: 0.000\n",
      " \n",
      "=== DIPOLE MOMENTS ===\n",
      " \n",
      "~ Nuclear dipole moment (a.u.): [3.0139242  0.0  0.0]\n",
      " \n",
      "  0: \n",
      "  * Electronic dipole moment (a.u.): [4.850322  0.0  0.0]\n",
      "    - computed part:      [4.85436625  0.0  0.0]\n",
      "    - FreezeCoreTransformer extracted energy part: [-0.00404424  0.0  0.0]\n",
      "  > Dipole moment (a.u.): [-1.8363978  0.0  0.0]  Total: 1.8363978\n",
      "                 (debye): [-4.66765719  0.0  0.0]  Total: 4.66765719\n",
      " \n"
     ]
    }
   ],
   "source": [
    "numpy_qeom_excited_states_calculation = QEOM(numpy_ground_state_solver, \"sd\")\n",
    "numpy_qeom_results = numpy_qeom_excited_states_calculation.solve(es_problem)\n",
    "print(numpy_qeom_results)"
   ]
  },
  {
   "cell_type": "markdown",
   "id": "b7ef1e45-dad4-44f9-a4a4-a44ce2ec40a1",
   "metadata": {},
   "source": [
    "## QEOM solution with VQE ground state solver"
   ]
  },
  {
   "cell_type": "code",
   "execution_count": 88,
   "id": "16861999-f2f9-4e9c-815b-c123fe1ee617",
   "metadata": {},
   "outputs": [
    {
     "name": "stdout",
     "output_type": "stream",
     "text": [
      "=== GROUND STATE ENERGY ===\n",
      " \n",
      "* Electronic ground state energy (Hartree): -8.876480785713\n",
      "  - computed part:      -1.078148031513\n",
      "  - FreezeCoreTransformer extracted energy part: -7.7983327542\n",
      "~ Nuclear repulsion energy (Hartree): 0.995380044366\n",
      "> Total ground state energy (Hartree): -7.881100741346\n",
      " \n",
      "=== EXCITED STATE ENERGIES ===\n",
      " \n",
      "  1: \n",
      "* Electronic excited state energy (Hartree): -8.697881079626\n",
      "> Total excited state energy (Hartree): -7.70250103526\n",
      "  2: \n",
      "* Electronic excited state energy (Hartree): -8.60748786131\n",
      "> Total excited state energy (Hartree): -7.612107816943\n",
      "  3: \n",
      "* Electronic excited state energy (Hartree): -8.435925487268\n",
      "> Total excited state energy (Hartree): -7.440545442901\n",
      "  4: \n",
      "* Electronic excited state energy (Hartree): -8.358049872603\n",
      "> Total excited state energy (Hartree): -7.362669828237\n",
      "  5: \n",
      "* Electronic excited state energy (Hartree): -8.23274433318\n",
      "> Total excited state energy (Hartree): -7.237364288813\n",
      "  6: \n",
      "* Electronic excited state energy (Hartree): -8.231362423222\n",
      "> Total excited state energy (Hartree): -7.235982378856\n",
      "  7: \n",
      "* Electronic excited state energy (Hartree): -8.006581797092\n",
      "> Total excited state energy (Hartree): -7.011201752725\n",
      "  8: \n",
      "* Electronic excited state energy (Hartree): -7.796448514492\n",
      "> Total excited state energy (Hartree): -6.801068470125\n",
      " \n",
      "=== MEASURED OBSERVABLES ===\n",
      " \n",
      "  0:  # Particles: 2.000 S: 0.000 S^2: 0.000 M: 0.000\n",
      " \n",
      "=== DIPOLE MOMENTS ===\n",
      " \n",
      "~ Nuclear dipole moment (a.u.): [3.0139242  0.0  0.0]\n",
      " \n",
      "  0: \n",
      "  * Electronic dipole moment (a.u.): [4.86749055  0.0  0.0]\n",
      "    - computed part:      [4.8715348  0.0  0.0]\n",
      "    - FreezeCoreTransformer extracted energy part: [-0.00404424  0.0  0.0]\n",
      "  > Dipole moment (a.u.): [-1.85356635  0.0  0.0]  Total: 1.85356635\n",
      "                 (debye): [-4.7112953  0.0  0.0]  Total: 4.7112953\n",
      " \n"
     ]
    }
   ],
   "source": [
    "qeom_excited_states_calculation = QEOM(gsc, \"sd\")\n",
    "qeom_results = qeom_excited_states_calculation.solve(es_problem)\n",
    "print(qeom_results)"
   ]
  },
  {
   "cell_type": "markdown",
   "id": "5dfc6340-f582-4801-9ac2-ab147e45fc09",
   "metadata": {},
   "source": [
    "## Show energy differences related to corresponding ground state energy"
   ]
  },
  {
   "cell_type": "code",
   "execution_count": 93,
   "id": "f1465bfc-8118-48d9-acde-3d12bf6d53c2",
   "metadata": {},
   "outputs": [],
   "source": [
    "def print_3_lowest_energies(results):\n",
    "    for energy in results.total_energies[:3]:\n",
    "        real_energy = np.real(energy)\n",
    "        gap = np.real(energy - results.total_energies[0])\n",
    "        print(f\"Total Energy (Hartree): {real_energy:.6f}, Difference (Hartree): {gap:.6f}\")"
   ]
  },
  {
   "cell_type": "code",
   "execution_count": 94,
   "id": "2efa3457-58b2-452f-b93a-8d97395de9bd",
   "metadata": {},
   "outputs": [
    {
     "name": "stdout",
     "output_type": "stream",
     "text": [
      "Total Energy (Hartree): -7.881146, Difference (Hartree): 0.000000\n",
      "Total Energy (Hartree): -7.765750, Difference (Hartree): 0.115396\n",
      "Total Energy (Hartree): -7.748064, Difference (Hartree): 0.133083\n"
     ]
    }
   ],
   "source": [
    "print_3_lowest_energies(numpy_results)"
   ]
  },
  {
   "cell_type": "code",
   "execution_count": 95,
   "id": "980b08b6-734a-40a4-82ae-e2ca840d9e29",
   "metadata": {},
   "outputs": [
    {
     "name": "stdout",
     "output_type": "stream",
     "text": [
      "Total Energy (Hartree): -7.881146, Difference (Hartree): 0.000000\n",
      "Total Energy (Hartree): -7.704475, Difference (Hartree): 0.176672\n",
      "Total Energy (Hartree): -7.606644, Difference (Hartree): 0.274503\n"
     ]
    }
   ],
   "source": [
    "print_3_lowest_energies(numpy_qeom_results)"
   ]
  },
  {
   "cell_type": "code",
   "execution_count": 96,
   "id": "9c181a1c-4244-4384-9313-a358ab3bde5a",
   "metadata": {},
   "outputs": [
    {
     "name": "stdout",
     "output_type": "stream",
     "text": [
      "Total Energy (Hartree): -7.881101, Difference (Hartree): 0.000000\n",
      "Total Energy (Hartree): -7.702501, Difference (Hartree): 0.178600\n",
      "Total Energy (Hartree): -7.612108, Difference (Hartree): 0.268993\n"
     ]
    }
   ],
   "source": [
    "print_3_lowest_energies(qeom_results)"
   ]
  },
  {
   "cell_type": "markdown",
   "id": "ec296887-84fd-49e4-af3d-4e2358814afa",
   "metadata": {},
   "source": [
    "QEOM soltion can't have correct energies for excited states to be as near as the numpy solution."
   ]
  },
  {
   "cell_type": "markdown",
   "id": "07102e8f-3f3a-418b-82b9-cda4dd4a04b6",
   "metadata": {},
   "source": [
    "compare with reference:\n",
    "https://aip.scitation.org/doi/10.1063/1.1677704\n",
    "\n",
    "Since we use very simplified model (less orbitals),\n",
    "we could just see that the ground state and the first excited state are relatively correct for using UCCSD ansatz.\n",
    "\n",
    "$1{\\text -}{}^1\\Sigma^+=-8.01605$\n",
    "\n",
    "$2{\\text -}{}^1\\Sigma^+=-7.89982$ ,  $\\Delta E_1=2{\\text -}{}^1\\Sigma^+ - 1{\\text -}{}^1\\Sigma^+=0.11623$\n",
    "\n",
    "$1{\\text -}{}^3\\Sigma^+=-7.91520$ ,  $\\Delta E_2=1{\\text -}{}^3\\Sigma^+ - 1{\\text -}{}^1\\Sigma^+=0.10085$\n",
    "\n",
    "$1{\\text -}{}^1\\Pi=-7.86165$ ,  $\\Delta E_3=1{\\text -}{}^1\\Pi - 1{\\text -}{}^1\\Sigma^+=0.15440$\n",
    "\n",
    "$1{\\text -}{}^3\\Pi=-7.87555$ ,  $\\Delta E_4=1{\\text -}{}^3\\Pi - 1{\\text -}{}^1\\Sigma^+=0.14050$"
   ]
  },
  {
   "cell_type": "code",
   "execution_count": null,
   "id": "34b59ad7-0e77-44d8-ba2e-9157cdbe2a3b",
   "metadata": {},
   "outputs": [],
   "source": []
  }
 ],
 "metadata": {
  "kernelspec": {
   "display_name": "Qiskit v0.34.2 (ipykernel)",
   "language": "python",
   "name": "python3"
  },
  "language_info": {
   "codemirror_mode": {
    "name": "ipython",
    "version": 3
   },
   "file_extension": ".py",
   "mimetype": "text/x-python",
   "name": "python",
   "nbconvert_exporter": "python",
   "pygments_lexer": "ipython3",
   "version": "3.8.12"
  },
  "widgets": {
   "application/vnd.jupyter.widget-state+json": {
    "state": {
     "1afdbc9bea3c4de489483576a909d20d": {
      "model_module": "@jupyter-widgets/controls",
      "model_module_version": "1.5.0",
      "model_name": "DescriptionStyleModel",
      "state": {
       "description_width": ""
      }
     },
     "1f910a52e9d8462e8d1c5c81d9096f43": {
      "model_module": "@jupyter-widgets/controls",
      "model_module_version": "1.5.0",
      "model_name": "HTMLModel",
      "state": {
       "layout": "IPY_MODEL_f45780c1ad764f7a8a92c1c042f0b65e",
       "style": "IPY_MODEL_90b075806b6d47b496b6515c6e476460",
       "value": "<h5>Message</h5>"
      }
     },
     "2ef2bd7ca63b4d9bb733cfbf0cbb5d7b": {
      "model_module": "@jupyter-widgets/controls",
      "model_module_version": "1.5.0",
      "model_name": "DescriptionStyleModel",
      "state": {
       "description_width": ""
      }
     },
     "35841c8e67f941d6ab6b58951645493b": {
      "model_module": "@jupyter-widgets/base",
      "model_module_version": "1.2.0",
      "model_name": "LayoutModel",
      "state": {
       "margin": "0px 0px 0px 37px",
       "width": "600px"
      }
     },
     "4965a85ec6224347a7590488b19ed2d2": {
      "model_module": "@jupyter-widgets/controls",
      "model_module_version": "1.5.0",
      "model_name": "HTMLModel",
      "state": {
       "layout": "IPY_MODEL_b41f9109bd54434daa340a27bda957ce",
       "style": "IPY_MODEL_1afdbc9bea3c4de489483576a909d20d",
       "value": "<h5>Job ID</h5>"
      }
     },
     "638b1af8cf344032b2583ee2ee1743b2": {
      "model_module": "@jupyter-widgets/controls",
      "model_module_version": "1.5.0",
      "model_name": "DescriptionStyleModel",
      "state": {
       "description_width": ""
      }
     },
     "686fca18ae11408b9e14f1bd53f4c461": {
      "model_module": "@jupyter-widgets/base",
      "model_module_version": "1.2.0",
      "model_name": "LayoutModel",
      "state": {
       "width": "95px"
      }
     },
     "6bdb554f3f40447fbd67d7a30bcde7b0": {
      "model_module": "@jupyter-widgets/base",
      "model_module_version": "1.2.0",
      "model_name": "LayoutModel",
      "state": {
       "width": "145px"
      }
     },
     "6d41e88d572f48278534bebf6f97f731": {
      "model_module": "@jupyter-widgets/controls",
      "model_module_version": "1.5.0",
      "model_name": "HTMLModel",
      "state": {
       "layout": "IPY_MODEL_686fca18ae11408b9e14f1bd53f4c461",
       "style": "IPY_MODEL_bf656b668b2648e68d063eaecfee1ab9",
       "value": "<h5>Status</h5>"
      }
     },
     "72931063d40c487eb525580eb204b2ce": {
      "model_module": "@jupyter-widgets/controls",
      "model_module_version": "1.5.0",
      "model_name": "HTMLModel",
      "state": {
       "layout": "IPY_MODEL_6bdb554f3f40447fbd67d7a30bcde7b0",
       "style": "IPY_MODEL_638b1af8cf344032b2583ee2ee1743b2",
       "value": "<h5>Backend</h5>"
      }
     },
     "8af68eaa8f26465aa34b7ee84f812d8e": {
      "model_module": "@jupyter-widgets/base",
      "model_module_version": "1.2.0",
      "model_name": "LayoutModel",
      "state": {
       "width": "70px"
      }
     },
     "8ef10dfc4cc048a181cce3702996c911": {
      "model_module": "@jupyter-widgets/base",
      "model_module_version": "1.2.0",
      "model_name": "LayoutModel",
      "state": {
       "grid_template_areas": "\n                                       \". . . . right \"\n                                        ",
       "grid_template_columns": "20% 20% 20% 20% 20%",
       "width": "100%"
      }
     },
     "90b075806b6d47b496b6515c6e476460": {
      "model_module": "@jupyter-widgets/controls",
      "model_module_version": "1.5.0",
      "model_name": "DescriptionStyleModel",
      "state": {
       "description_width": ""
      }
     },
     "917c4b000379491abaff211444b90400": {
      "model_module": "@jupyter-widgets/controls",
      "model_module_version": "1.5.0",
      "model_name": "HTMLModel",
      "state": {
       "layout": "IPY_MODEL_8af68eaa8f26465aa34b7ee84f812d8e",
       "style": "IPY_MODEL_cb109684090e4985860641469a33935b",
       "value": "<h5>Queue</h5>"
      }
     },
     "9db3e096451843f984fca418d7c561d8": {
      "model_module": "@jupyter-widgets/base",
      "model_module_version": "1.2.0",
      "model_name": "LayoutModel",
      "state": {
       "margin": "0px 0px 10px 0px"
      }
     },
     "a2e95b80fa09466d8ed5c6323f743a38": {
      "model_module": "@jupyter-widgets/controls",
      "model_module_version": "1.5.0",
      "model_name": "HBoxModel",
      "state": {
       "children": [
        "IPY_MODEL_4965a85ec6224347a7590488b19ed2d2",
        "IPY_MODEL_72931063d40c487eb525580eb204b2ce",
        "IPY_MODEL_6d41e88d572f48278534bebf6f97f731",
        "IPY_MODEL_917c4b000379491abaff211444b90400",
        "IPY_MODEL_1f910a52e9d8462e8d1c5c81d9096f43"
       ],
       "layout": "IPY_MODEL_35841c8e67f941d6ab6b58951645493b"
      }
     },
     "a91e3e0e5add494088faf900890c8a47": {
      "model_module": "@jupyter-widgets/base",
      "model_module_version": "1.2.0",
      "model_name": "LayoutModel",
      "state": {
       "grid_area": "right",
       "padding": "0px 0px 0px 0px",
       "width": "70px"
      }
     },
     "ac0bb49fc1df4fc88857d0ee9919f78e": {
      "model_module": "@jupyter-widgets/controls",
      "model_module_version": "1.5.0",
      "model_name": "ButtonStyleModel",
      "state": {}
     },
     "b41f9109bd54434daa340a27bda957ce": {
      "model_module": "@jupyter-widgets/base",
      "model_module_version": "1.2.0",
      "model_name": "LayoutModel",
      "state": {
       "width": "190px"
      }
     },
     "bd4d59c04cdc484084cf440c0ca4af00": {
      "model_module": "@jupyter-widgets/controls",
      "model_module_version": "1.5.0",
      "model_name": "GridBoxModel",
      "state": {
       "children": [
        "IPY_MODEL_fb3e7b11c87249f589e9f3d0d84172c4"
       ],
       "layout": "IPY_MODEL_8ef10dfc4cc048a181cce3702996c911"
      }
     },
     "bf656b668b2648e68d063eaecfee1ab9": {
      "model_module": "@jupyter-widgets/controls",
      "model_module_version": "1.5.0",
      "model_name": "DescriptionStyleModel",
      "state": {
       "description_width": ""
      }
     },
     "cb109684090e4985860641469a33935b": {
      "model_module": "@jupyter-widgets/controls",
      "model_module_version": "1.5.0",
      "model_name": "DescriptionStyleModel",
      "state": {
       "description_width": ""
      }
     },
     "d78fbb564ee942db9fa127834c6a7174": {
      "model_module": "@jupyter-widgets/controls",
      "model_module_version": "1.5.0",
      "model_name": "HTMLModel",
      "state": {
       "layout": "IPY_MODEL_9db3e096451843f984fca418d7c561d8",
       "style": "IPY_MODEL_2ef2bd7ca63b4d9bb733cfbf0cbb5d7b",
       "value": "<p style='font-family: IBM Plex Sans, Arial, Helvetica, sans-serif; font-size: 20px; font-weight: medium;'>Circuit Properties</p>"
      }
     },
     "f45780c1ad764f7a8a92c1c042f0b65e": {
      "model_module": "@jupyter-widgets/base",
      "model_module_version": "1.2.0",
      "model_name": "LayoutModel",
      "state": {}
     },
     "fb3e7b11c87249f589e9f3d0d84172c4": {
      "model_module": "@jupyter-widgets/controls",
      "model_module_version": "1.5.0",
      "model_name": "ButtonModel",
      "state": {
       "button_style": "primary",
       "description": "Clear",
       "layout": "IPY_MODEL_a91e3e0e5add494088faf900890c8a47",
       "style": "IPY_MODEL_ac0bb49fc1df4fc88857d0ee9919f78e"
      }
     }
    },
    "version_major": 2,
    "version_minor": 0
   }
  }
 },
 "nbformat": 4,
 "nbformat_minor": 5
}
