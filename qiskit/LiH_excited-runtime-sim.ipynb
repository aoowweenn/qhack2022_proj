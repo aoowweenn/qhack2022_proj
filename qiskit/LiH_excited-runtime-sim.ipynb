{
 "cells": [
  {
   "cell_type": "code",
   "execution_count": 1,
   "id": "7822d69d-7de3-4050-a208-47c0938199df",
   "metadata": {},
   "outputs": [
    {
     "name": "stderr",
     "output_type": "stream",
     "text": [
      "<frozen importlib._bootstrap>:219: RuntimeWarning: scipy._lib.messagestream.MessageStream size changed, may indicate binary incompatibility. Expected 56 from C header, got 64 from PyObject\n"
     ]
    }
   ],
   "source": [
    "import numpy as np\n",
    "from qiskit import IBMQ"
   ]
  },
  {
   "cell_type": "code",
   "execution_count": 2,
   "id": "a1061235-2ca5-4111-80df-3d129cb594ce",
   "metadata": {},
   "outputs": [],
   "source": [
    "IBMQ.load_account()\n",
    "provider = IBMQ.get_provider(hub='ibm-q-community', group='qhack-hackathon', project='7-qubit')"
   ]
  },
  {
   "cell_type": "code",
   "execution_count": 3,
   "id": "a364adac-9f75-4162-8b5d-62db20ece753",
   "metadata": {},
   "outputs": [
    {
     "data": {
      "text/plain": [
       "[<IBMQSimulator('ibmq_qasm_simulator') from IBMQ(hub='ibm-q-community', group='qhack-hackathon', project='7-qubit')>,\n",
       " <IBMQBackend('ibm_perth') from IBMQ(hub='ibm-q-community', group='qhack-hackathon', project='7-qubit')>]"
      ]
     },
     "execution_count": 3,
     "metadata": {},
     "output_type": "execute_result"
    }
   ],
   "source": [
    "provider.backends()"
   ]
  },
  {
   "cell_type": "code",
   "execution_count": 4,
   "id": "d728f8d5-655f-419d-bb26-adbcf5d1b3cb",
   "metadata": {},
   "outputs": [],
   "source": [
    "backend = provider.get_backend('ibmq_qasm_simulator')"
   ]
  },
  {
   "cell_type": "code",
   "execution_count": 23,
   "id": "700dff12-0e30-46e4-a997-9aead9e4ce95",
   "metadata": {},
   "outputs": [],
   "source": [
    "from qiskit_nature.drivers import UnitsType, Molecule\n",
    "from qiskit_nature.drivers.second_quantization import (\n",
    "    ElectronicStructureDriverType,\n",
    "    ElectronicStructureMoleculeDriver,\n",
    ")\n",
    "from qiskit_nature.problems.second_quantization import ElectronicStructureProblem\n",
    "from qiskit_nature.converters.second_quantization import QubitConverter\n",
    "from qiskit_nature.mappers.second_quantization import ParityMapper\n",
    "from qiskit_nature.transformers.second_quantization.electronic.freeze_core_transformer import FreezeCoreTransformer"
   ]
  },
  {
   "cell_type": "markdown",
   "id": "38c9fa9e-e819-4dd7-9005-e83121bfb9b0",
   "metadata": {},
   "source": [
    "Originally, we have these orbitals, H: 1s2, Li: 1s2, 2s2, 2px2, 2py2, 2pz2, total (spin) oribtals: 6 (12)\n",
    "\n",
    "To reduce number of qubits, we align the H and Li atom to Z axis so that there is no contribution of px (orbital 3) and py (orbital 4).\n",
    "\n",
    "Also, we freeze the core electrons so that 2 electrons from Li are occupied in the 1s2 (orbital 0).\n",
    "\n",
    "Ref: https://arxiv.org/abs/1704.05018"
   ]
  },
  {
   "cell_type": "code",
   "execution_count": 24,
   "id": "fdb21620-b14c-48de-ac56-65e28bf3fc0c",
   "metadata": {},
   "outputs": [],
   "source": [
    "# Cartesians from:\n",
    "# https://cccbdb.nist.gov/exp2x.asp?casno=7580678&charge=0\n",
    "molecule = Molecule(\n",
    "    geometry=[[\"Li\", [0.0, 0.0, 0.0]], [\"H\", [0.0, 0.0, 1.5949]]], charge=0, multiplicity=1\n",
    ")\n",
    "driver = ElectronicStructureMoleculeDriver(\n",
    "    molecule, basis=\"sto3g\", driver_type=ElectronicStructureDriverType.PYSCF\n",
    ")\n",
    "\n",
    "# FreezeCoreTransformer will freeze core electrons by defaults\n",
    "es_problem = ElectronicStructureProblem(driver, [FreezeCoreTransformer(remove_orbitals=[3, 4])])\n",
    "qubit_converter = QubitConverter(ParityMapper(), True, [1, 1])"
   ]
  },
  {
   "cell_type": "code",
   "execution_count": 25,
   "id": "7949528f-8281-4fe9-a51c-fceffebe334e",
   "metadata": {},
   "outputs": [
    {
     "data": {
      "image/png": "[encoded data removed]",
      "text/plain": [
       "<Figure size 146.797x264.88 with 1 Axes>"
      ]
     },
     "execution_count": 25,
     "metadata": {},
     "output_type": "execute_result"
    }
   ],
   "source": [
    "from qiskit_nature.circuit.library import HartreeFock\n",
    "\n",
    "# strange behavior\n",
    "# we need to convert second_q_ops first to make 4-qubit init_state\n",
    "second_q_ops = es_problem.second_q_ops()\n",
    "qubit_op = qubit_converter.convert(second_q_ops[0])\n",
    "\n",
    "init_state = HartreeFock(es_problem.num_spin_orbitals, es_problem.num_particles, qubit_converter)\n",
    "init_state.draw()"
   ]
  },
  {
   "cell_type": "code",
   "execution_count": 26,
   "id": "a9afb287-52f0-48f9-9e15-d33669a546d3",
   "metadata": {},
   "outputs": [],
   "source": [
    "from qiskit_nature.circuit.library import UCCSD\n",
    "\n",
    "ansatz = UCCSD(qubit_converter, es_problem.num_particles, es_problem.num_spin_orbitals, 1, init_state)"
   ]
  },
  {
   "cell_type": "code",
   "execution_count": 27,
   "id": "d7a6cba3-cea4-481d-9b3c-8ade451875c4",
   "metadata": {},
   "outputs": [],
   "source": [
    "np.random.seed(5)\n",
    "initial_point = np.random.random(ansatz.num_parameters)"
   ]
  },
  {
   "cell_type": "code",
   "execution_count": 28,
   "id": "3835b7fc",
   "metadata": {
    "tags": []
   },
   "outputs": [],
   "source": [
    "from qiskit_nature.runtime import VQEClient\n",
    "\n",
    "optimizer = {\n",
    "    'name': 'QN-SPSA',\n",
    "    #'name': 'SPSA',\n",
    "    'maxiter': 100,\n",
    "    \"resamplings\": {1: 100},\n",
    "}\n",
    "    \n",
    "runtime_vqe = VQEClient(ansatz=ansatz,\n",
    "                         optimizer=optimizer,\n",
    "                         backend=backend,\n",
    "                         initial_point=initial_point,\n",
    "                         provider=provider,\n",
    "                         shots=1024,\n",
    "                         measurement_error_mitigation=False)"
   ]
  },
  {
   "cell_type": "code",
   "execution_count": 29,
   "id": "5a315921-5998-4015-bcb8-f994b0ff7311",
   "metadata": {},
   "outputs": [],
   "source": [
    "from qiskit_nature.algorithms import GroundStateEigensolver\n",
    "\n",
    "runtime_vqe_groundstate_solver = GroundStateEigensolver(qubit_converter, runtime_vqe)\n",
    "#runtime_vqe_result = runtime_vqe_groundstate_solver.solve(es_problem)"
   ]
  },
  {
   "cell_type": "code",
   "execution_count": 30,
   "id": "85d3287b-75e9-4a62-a914-06e82e971aa4",
   "metadata": {},
   "outputs": [
    {
     "name": "stdout",
     "output_type": "stream",
     "text": [
      "Traceback \u001b[1;36m(most recent call last)\u001b[0m:\n",
      "  Input \u001b[0;32mIn [30]\u001b[0m in \u001b[0;35m<module>\u001b[0m\n",
      "    runtime_qeom_results = runtime_qeom_excited_states_calculation.solve(es_problem)\n",
      "  File \u001b[0;32m/opt/conda/lib/python3.8/site-packages/qiskit_nature/algorithms/excited_states_solvers/qeom.py:106\u001b[0m in \u001b[0;35msolve\u001b[0m\n",
      "    groundstate_result = self._gsc.solve(problem, aux_operators)\n",
      "  File \u001b[0;32m/opt/conda/lib/python3.8/site-packages/qiskit_nature/algorithms/ground_state_solvers/ground_state_eigensolver.py:144\u001b[0m in \u001b[0;35msolve\u001b[0m\n",
      "    raw_mes_result = self._solver.compute_minimum_eigenvalue(main_operator, aux_ops)\n",
      "\u001b[1;36m  File \u001b[1;32m/opt/conda/lib/python3.8/site-packages/qiskit_nature/runtime/vqe_client.py:294\u001b[1;36m in \u001b[1;35mcompute_minimum_eigenvalue\u001b[1;36m\u001b[0m\n",
      "\u001b[1;33m    vqe_result.cost_function_evals = result.get(\"cost_function_evals\", None)\u001b[0m\n",
      "\u001b[1;31mAttributeError\u001b[0m\u001b[1;31m:\u001b[0m 'str' object has no attribute 'get'\n",
      "\n",
      "Use %tb to get the full traceback.\n"
     ]
    },
    {
     "data": {
      "text/html": [
       "\n",
       "<style>\n",
       ".button {\n",
       "  border: none;\n",
       "  color: white;\n",
       "  padding: 4px 8px;\n",
       "  text-align: center;\n",
       "  text-decoration: none;\n",
       "  display: inline-block;\n",
       "  font-size: 12px;\n",
       "  margin: 4px 2px;\n",
       "  transition-duration: 0.2s;\n",
       "  cursor: pointer;\n",
       "}\n",
       ".iqx-button {\n",
       "  background-color: #0f62fe; \n",
       "  color: white; \n",
       "}\n",
       ".iqx-button:hover {\n",
       "  background-color: #0043ce;\n",
       "  color: white;\n",
       "}\n",
       "</style>\n",
       "<a href=\"https://stackoverflow.com/search?q=AttributeError: 'str' object has no attribute 'get'\" target='_blank'><button class='button iqx-button'>Search for solution online</button></a>\n"
      ],
      "text/plain": [
       "<IPython.core.display.HTML object>"
      ]
     },
     "metadata": {},
     "output_type": "display_data"
    }
   ],
   "source": [
    "from qiskit_nature.algorithms import QEOM#, ExcitedStatesEigensolver\n",
    "\n",
    "runtime_qeom_excited_states_calculation = QEOM(runtime_vqe_groundstate_solver, \"sd\")\n",
    "runtime_qeom_results = runtime_qeom_excited_states_calculation.solve(es_problem)"
   ]
  },
  {
   "cell_type": "code",
   "execution_count": 31,
   "id": "3864885d-c314-4c67-b520-287b729c7c8e",
   "metadata": {},
   "outputs": [],
   "source": [
    "job = provider.runtime.job(\"c8c7do1897csue4rqnig\")"
   ]
  },
  {
   "cell_type": "code",
   "execution_count": 32,
   "id": "25a16323-14ac-4035-85de-1d3ddf598f53",
   "metadata": {},
   "outputs": [],
   "source": [
    "job_result = job.result()"
   ]
  },
  {
   "cell_type": "code",
   "execution_count": 33,
   "id": "455100d6-8138-42e4-b412-eaaa8adf7449",
   "metadata": {},
   "outputs": [
    {
     "data": {
      "text/plain": [
       "str"
      ]
     },
     "execution_count": 33,
     "metadata": {},
     "output_type": "execute_result"
    }
   ],
   "source": [
    "type(job_result)"
   ]
  },
  {
   "cell_type": "code",
   "execution_count": null,
   "id": "dd99f4de-f42c-419a-baae-b15739c38afd",
   "metadata": {},
   "outputs": [],
   "source": []
  }
 ],
 "metadata": {
  "kernelspec": {
   "display_name": "Qiskit v0.34.2 (ipykernel)",
   "language": "python",
   "name": "python3"
  },
  "language_info": {
   "codemirror_mode": {
    "name": "ipython",
    "version": 3
   },
   "file_extension": ".py",
   "mimetype": "text/x-python",
   "name": "python",
   "nbconvert_exporter": "python",
   "pygments_lexer": "ipython3",
   "version": "3.8.12"
  },
  "widgets": {
   "application/vnd.jupyter.widget-state+json": {
    "state": {},
    "version_major": 2,
    "version_minor": 0
   }
  }
 },
 "nbformat": 4,
 "nbformat_minor": 5
}
